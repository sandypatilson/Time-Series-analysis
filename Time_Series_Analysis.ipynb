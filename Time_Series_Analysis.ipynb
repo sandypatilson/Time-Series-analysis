{
  "nbformat": 4,
  "nbformat_minor": 0,
  "metadata": {
    "colab": {
      "provenance": [],
      "collapsed_sections": []
    },
    "kernelspec": {
      "name": "python3",
      "display_name": "Python 3"
    },
    "language_info": {
      "name": "python"
    },
    "accelerator": "GPU",
    "gpuClass": "standard"
  },
  "cells": [
    {
      "cell_type": "code",
      "execution_count": 1,
      "metadata": {
        "id": "-1HSn19LcdXz"
      },
      "outputs": [],
      "source": [
        "import pandas as pd\n",
        "import numpy as np\n",
        "import matplotlib.pyplot as plt\n",
        "import seaborn as sns"
      ]
    },
    {
      "cell_type": "code",
      "source": [
        "df = pd.read_csv('/content/indexProcessed.csv',index_col = 1,parse_dates=True)"
      ],
      "metadata": {
        "id": "EAgP1VMf8rjw"
      },
      "execution_count": 2,
      "outputs": []
    },
    {
      "cell_type": "code",
      "source": [
        "df.info()"
      ],
      "metadata": {
        "colab": {
          "base_uri": "https://localhost:8080/"
        },
        "id": "KPTtS97g8roq",
        "outputId": "3976b9f6-c446-4e9d-c8d9-175578a5c2d3"
      },
      "execution_count": 3,
      "outputs": [
        {
          "output_type": "stream",
          "name": "stdout",
          "text": [
            "<class 'pandas.core.frame.DataFrame'>\n",
            "DatetimeIndex: 104224 entries, 1986-12-31 to 2021-05-31\n",
            "Data columns (total 8 columns):\n",
            " #   Column     Non-Null Count   Dtype  \n",
            "---  ------     --------------   -----  \n",
            " 0   Index      104224 non-null  object \n",
            " 1   Open       104224 non-null  float64\n",
            " 2   High       104224 non-null  float64\n",
            " 3   Low        104224 non-null  float64\n",
            " 4   Close      104224 non-null  float64\n",
            " 5   Adj Close  104224 non-null  float64\n",
            " 6   Volume     104224 non-null  float64\n",
            " 7   CloseUSD   104224 non-null  float64\n",
            "dtypes: float64(7), object(1)\n",
            "memory usage: 7.2+ MB\n"
          ]
        }
      ]
    },
    {
      "cell_type": "markdown",
      "source": [
        "Index - Stock Indexes\n",
        "\n",
        "Open - Opening values of the stock\n",
        "\n",
        "High - Highest value of the stock in a day\n",
        "\n",
        "Low - Lowest values of the stock in a day\n",
        "\n",
        "Close - Closing values of the stock (in domestic currency)\n",
        "\n",
        "Adj Close - Adjusted Closing values of the stock (After a dividend is announced)\n",
        "\n",
        "Volume - Volume of stocks traded\n",
        "\n",
        "CloseUSD - Closing values of the stock in USD\n"
      ],
      "metadata": {
        "id": "z-Y96fag86gZ"
      }
    },
    {
      "cell_type": "code",
      "source": [
        "df.describe()"
      ],
      "metadata": {
        "colab": {
          "base_uri": "https://localhost:8080/",
          "height": 300
        },
        "id": "SDoVUzSw8rxm",
        "outputId": "6479ea18-12c7-450d-e8c3-d52e02050155"
      },
      "execution_count": 4,
      "outputs": [
        {
          "output_type": "execute_result",
          "data": {
            "text/plain": [
              "                Open           High            Low          Close  \\\n",
              "count  104224.000000  104224.000000  104224.000000  104224.000000   \n",
              "mean     8015.353334    8063.324234    7962.581120    8014.366642   \n",
              "std      9140.563404    9196.575802    9082.767802    9140.609758   \n",
              "min        54.869999      54.869999      54.869999      54.869999   \n",
              "25%      2046.887756    2057.213990    2037.185943    2047.506470   \n",
              "50%      5772.140137    5812.764892    5725.199951    5773.710205   \n",
              "75%     10487.377445   10552.179690   10416.092287   10488.622560   \n",
              "max     68775.062500   69403.750000   68516.992190   68775.062500   \n",
              "\n",
              "           Adj Close        Volume       CloseUSD  \n",
              "count  104224.000000  1.042240e+05  104224.000000  \n",
              "mean     8014.161269  1.347646e+09    3046.729177  \n",
              "std      9140.720456  4.427662e+09    3747.865623  \n",
              "min        54.869999  0.000000e+00      10.204900  \n",
              "25%      2047.358490  0.000000e+00     320.460898  \n",
              "50%      5773.710205  9.529000e+05    1371.598486  \n",
              "75%     10488.622560  2.064676e+08    4383.045241  \n",
              "max     68775.062500  9.440374e+10   18934.376173  "
            ],
            "text/html": [
              "\n",
              "  <div id=\"df-aa346d7c-ba1e-4a1e-b47b-ad0f692b192c\">\n",
              "    <div class=\"colab-df-container\">\n",
              "      <div>\n",
              "<style scoped>\n",
              "    .dataframe tbody tr th:only-of-type {\n",
              "        vertical-align: middle;\n",
              "    }\n",
              "\n",
              "    .dataframe tbody tr th {\n",
              "        vertical-align: top;\n",
              "    }\n",
              "\n",
              "    .dataframe thead th {\n",
              "        text-align: right;\n",
              "    }\n",
              "</style>\n",
              "<table border=\"1\" class=\"dataframe\">\n",
              "  <thead>\n",
              "    <tr style=\"text-align: right;\">\n",
              "      <th></th>\n",
              "      <th>Open</th>\n",
              "      <th>High</th>\n",
              "      <th>Low</th>\n",
              "      <th>Close</th>\n",
              "      <th>Adj Close</th>\n",
              "      <th>Volume</th>\n",
              "      <th>CloseUSD</th>\n",
              "    </tr>\n",
              "  </thead>\n",
              "  <tbody>\n",
              "    <tr>\n",
              "      <th>count</th>\n",
              "      <td>104224.000000</td>\n",
              "      <td>104224.000000</td>\n",
              "      <td>104224.000000</td>\n",
              "      <td>104224.000000</td>\n",
              "      <td>104224.000000</td>\n",
              "      <td>1.042240e+05</td>\n",
              "      <td>104224.000000</td>\n",
              "    </tr>\n",
              "    <tr>\n",
              "      <th>mean</th>\n",
              "      <td>8015.353334</td>\n",
              "      <td>8063.324234</td>\n",
              "      <td>7962.581120</td>\n",
              "      <td>8014.366642</td>\n",
              "      <td>8014.161269</td>\n",
              "      <td>1.347646e+09</td>\n",
              "      <td>3046.729177</td>\n",
              "    </tr>\n",
              "    <tr>\n",
              "      <th>std</th>\n",
              "      <td>9140.563404</td>\n",
              "      <td>9196.575802</td>\n",
              "      <td>9082.767802</td>\n",
              "      <td>9140.609758</td>\n",
              "      <td>9140.720456</td>\n",
              "      <td>4.427662e+09</td>\n",
              "      <td>3747.865623</td>\n",
              "    </tr>\n",
              "    <tr>\n",
              "      <th>min</th>\n",
              "      <td>54.869999</td>\n",
              "      <td>54.869999</td>\n",
              "      <td>54.869999</td>\n",
              "      <td>54.869999</td>\n",
              "      <td>54.869999</td>\n",
              "      <td>0.000000e+00</td>\n",
              "      <td>10.204900</td>\n",
              "    </tr>\n",
              "    <tr>\n",
              "      <th>25%</th>\n",
              "      <td>2046.887756</td>\n",
              "      <td>2057.213990</td>\n",
              "      <td>2037.185943</td>\n",
              "      <td>2047.506470</td>\n",
              "      <td>2047.358490</td>\n",
              "      <td>0.000000e+00</td>\n",
              "      <td>320.460898</td>\n",
              "    </tr>\n",
              "    <tr>\n",
              "      <th>50%</th>\n",
              "      <td>5772.140137</td>\n",
              "      <td>5812.764892</td>\n",
              "      <td>5725.199951</td>\n",
              "      <td>5773.710205</td>\n",
              "      <td>5773.710205</td>\n",
              "      <td>9.529000e+05</td>\n",
              "      <td>1371.598486</td>\n",
              "    </tr>\n",
              "    <tr>\n",
              "      <th>75%</th>\n",
              "      <td>10487.377445</td>\n",
              "      <td>10552.179690</td>\n",
              "      <td>10416.092287</td>\n",
              "      <td>10488.622560</td>\n",
              "      <td>10488.622560</td>\n",
              "      <td>2.064676e+08</td>\n",
              "      <td>4383.045241</td>\n",
              "    </tr>\n",
              "    <tr>\n",
              "      <th>max</th>\n",
              "      <td>68775.062500</td>\n",
              "      <td>69403.750000</td>\n",
              "      <td>68516.992190</td>\n",
              "      <td>68775.062500</td>\n",
              "      <td>68775.062500</td>\n",
              "      <td>9.440374e+10</td>\n",
              "      <td>18934.376173</td>\n",
              "    </tr>\n",
              "  </tbody>\n",
              "</table>\n",
              "</div>\n",
              "      <button class=\"colab-df-convert\" onclick=\"convertToInteractive('df-aa346d7c-ba1e-4a1e-b47b-ad0f692b192c')\"\n",
              "              title=\"Convert this dataframe to an interactive table.\"\n",
              "              style=\"display:none;\">\n",
              "        \n",
              "  <svg xmlns=\"http://www.w3.org/2000/svg\" height=\"24px\"viewBox=\"0 0 24 24\"\n",
              "       width=\"24px\">\n",
              "    <path d=\"M0 0h24v24H0V0z\" fill=\"none\"/>\n",
              "    <path d=\"M18.56 5.44l.94 2.06.94-2.06 2.06-.94-2.06-.94-.94-2.06-.94 2.06-2.06.94zm-11 1L8.5 8.5l.94-2.06 2.06-.94-2.06-.94L8.5 2.5l-.94 2.06-2.06.94zm10 10l.94 2.06.94-2.06 2.06-.94-2.06-.94-.94-2.06-.94 2.06-2.06.94z\"/><path d=\"M17.41 7.96l-1.37-1.37c-.4-.4-.92-.59-1.43-.59-.52 0-1.04.2-1.43.59L10.3 9.45l-7.72 7.72c-.78.78-.78 2.05 0 2.83L4 21.41c.39.39.9.59 1.41.59.51 0 1.02-.2 1.41-.59l7.78-7.78 2.81-2.81c.8-.78.8-2.07 0-2.86zM5.41 20L4 18.59l7.72-7.72 1.47 1.35L5.41 20z\"/>\n",
              "  </svg>\n",
              "      </button>\n",
              "      \n",
              "  <style>\n",
              "    .colab-df-container {\n",
              "      display:flex;\n",
              "      flex-wrap:wrap;\n",
              "      gap: 12px;\n",
              "    }\n",
              "\n",
              "    .colab-df-convert {\n",
              "      background-color: #E8F0FE;\n",
              "      border: none;\n",
              "      border-radius: 50%;\n",
              "      cursor: pointer;\n",
              "      display: none;\n",
              "      fill: #1967D2;\n",
              "      height: 32px;\n",
              "      padding: 0 0 0 0;\n",
              "      width: 32px;\n",
              "    }\n",
              "\n",
              "    .colab-df-convert:hover {\n",
              "      background-color: #E2EBFA;\n",
              "      box-shadow: 0px 1px 2px rgba(60, 64, 67, 0.3), 0px 1px 3px 1px rgba(60, 64, 67, 0.15);\n",
              "      fill: #174EA6;\n",
              "    }\n",
              "\n",
              "    [theme=dark] .colab-df-convert {\n",
              "      background-color: #3B4455;\n",
              "      fill: #D2E3FC;\n",
              "    }\n",
              "\n",
              "    [theme=dark] .colab-df-convert:hover {\n",
              "      background-color: #434B5C;\n",
              "      box-shadow: 0px 1px 3px 1px rgba(0, 0, 0, 0.15);\n",
              "      filter: drop-shadow(0px 1px 2px rgba(0, 0, 0, 0.3));\n",
              "      fill: #FFFFFF;\n",
              "    }\n",
              "  </style>\n",
              "\n",
              "      <script>\n",
              "        const buttonEl =\n",
              "          document.querySelector('#df-aa346d7c-ba1e-4a1e-b47b-ad0f692b192c button.colab-df-convert');\n",
              "        buttonEl.style.display =\n",
              "          google.colab.kernel.accessAllowed ? 'block' : 'none';\n",
              "\n",
              "        async function convertToInteractive(key) {\n",
              "          const element = document.querySelector('#df-aa346d7c-ba1e-4a1e-b47b-ad0f692b192c');\n",
              "          const dataTable =\n",
              "            await google.colab.kernel.invokeFunction('convertToInteractive',\n",
              "                                                     [key], {});\n",
              "          if (!dataTable) return;\n",
              "\n",
              "          const docLinkHtml = 'Like what you see? Visit the ' +\n",
              "            '<a target=\"_blank\" href=https://colab.research.google.com/notebooks/data_table.ipynb>data table notebook</a>'\n",
              "            + ' to learn more about interactive tables.';\n",
              "          element.innerHTML = '';\n",
              "          dataTable['output_type'] = 'display_data';\n",
              "          await google.colab.output.renderOutput(dataTable, element);\n",
              "          const docLink = document.createElement('div');\n",
              "          docLink.innerHTML = docLinkHtml;\n",
              "          element.appendChild(docLink);\n",
              "        }\n",
              "      </script>\n",
              "    </div>\n",
              "  </div>\n",
              "  "
            ]
          },
          "metadata": {},
          "execution_count": 4
        }
      ]
    },
    {
      "cell_type": "code",
      "source": [
        "df.head()"
      ],
      "metadata": {
        "colab": {
          "base_uri": "https://localhost:8080/",
          "height": 237
        },
        "id": "p3ZPjgay8r4D",
        "outputId": "9c15549e-ec9e-4b30-8d22-44c17113442d"
      },
      "execution_count": 5,
      "outputs": [
        {
          "output_type": "execute_result",
          "data": {
            "text/plain": [
              "           Index         Open         High          Low        Close  \\\n",
              "Date                                                                   \n",
              "1986-12-31   HSI  2568.300049  2568.300049  2568.300049  2568.300049   \n",
              "1987-01-02   HSI  2540.100098  2540.100098  2540.100098  2540.100098   \n",
              "1987-01-05   HSI  2552.399902  2552.399902  2552.399902  2552.399902   \n",
              "1987-01-06   HSI  2583.899902  2583.899902  2583.899902  2583.899902   \n",
              "1987-01-07   HSI  2607.100098  2607.100098  2607.100098  2607.100098   \n",
              "\n",
              "              Adj Close  Volume    CloseUSD  \n",
              "Date                                         \n",
              "1986-12-31  2568.300049     0.0  333.879006  \n",
              "1987-01-02  2540.100098     0.0  330.213013  \n",
              "1987-01-05  2552.399902     0.0  331.811987  \n",
              "1987-01-06  2583.899902     0.0  335.906987  \n",
              "1987-01-07  2607.100098     0.0  338.923013  "
            ],
            "text/html": [
              "\n",
              "  <div id=\"df-54ae2b3d-1261-46bf-8e93-d1c9b2baff42\">\n",
              "    <div class=\"colab-df-container\">\n",
              "      <div>\n",
              "<style scoped>\n",
              "    .dataframe tbody tr th:only-of-type {\n",
              "        vertical-align: middle;\n",
              "    }\n",
              "\n",
              "    .dataframe tbody tr th {\n",
              "        vertical-align: top;\n",
              "    }\n",
              "\n",
              "    .dataframe thead th {\n",
              "        text-align: right;\n",
              "    }\n",
              "</style>\n",
              "<table border=\"1\" class=\"dataframe\">\n",
              "  <thead>\n",
              "    <tr style=\"text-align: right;\">\n",
              "      <th></th>\n",
              "      <th>Index</th>\n",
              "      <th>Open</th>\n",
              "      <th>High</th>\n",
              "      <th>Low</th>\n",
              "      <th>Close</th>\n",
              "      <th>Adj Close</th>\n",
              "      <th>Volume</th>\n",
              "      <th>CloseUSD</th>\n",
              "    </tr>\n",
              "    <tr>\n",
              "      <th>Date</th>\n",
              "      <th></th>\n",
              "      <th></th>\n",
              "      <th></th>\n",
              "      <th></th>\n",
              "      <th></th>\n",
              "      <th></th>\n",
              "      <th></th>\n",
              "      <th></th>\n",
              "    </tr>\n",
              "  </thead>\n",
              "  <tbody>\n",
              "    <tr>\n",
              "      <th>1986-12-31</th>\n",
              "      <td>HSI</td>\n",
              "      <td>2568.300049</td>\n",
              "      <td>2568.300049</td>\n",
              "      <td>2568.300049</td>\n",
              "      <td>2568.300049</td>\n",
              "      <td>2568.300049</td>\n",
              "      <td>0.0</td>\n",
              "      <td>333.879006</td>\n",
              "    </tr>\n",
              "    <tr>\n",
              "      <th>1987-01-02</th>\n",
              "      <td>HSI</td>\n",
              "      <td>2540.100098</td>\n",
              "      <td>2540.100098</td>\n",
              "      <td>2540.100098</td>\n",
              "      <td>2540.100098</td>\n",
              "      <td>2540.100098</td>\n",
              "      <td>0.0</td>\n",
              "      <td>330.213013</td>\n",
              "    </tr>\n",
              "    <tr>\n",
              "      <th>1987-01-05</th>\n",
              "      <td>HSI</td>\n",
              "      <td>2552.399902</td>\n",
              "      <td>2552.399902</td>\n",
              "      <td>2552.399902</td>\n",
              "      <td>2552.399902</td>\n",
              "      <td>2552.399902</td>\n",
              "      <td>0.0</td>\n",
              "      <td>331.811987</td>\n",
              "    </tr>\n",
              "    <tr>\n",
              "      <th>1987-01-06</th>\n",
              "      <td>HSI</td>\n",
              "      <td>2583.899902</td>\n",
              "      <td>2583.899902</td>\n",
              "      <td>2583.899902</td>\n",
              "      <td>2583.899902</td>\n",
              "      <td>2583.899902</td>\n",
              "      <td>0.0</td>\n",
              "      <td>335.906987</td>\n",
              "    </tr>\n",
              "    <tr>\n",
              "      <th>1987-01-07</th>\n",
              "      <td>HSI</td>\n",
              "      <td>2607.100098</td>\n",
              "      <td>2607.100098</td>\n",
              "      <td>2607.100098</td>\n",
              "      <td>2607.100098</td>\n",
              "      <td>2607.100098</td>\n",
              "      <td>0.0</td>\n",
              "      <td>338.923013</td>\n",
              "    </tr>\n",
              "  </tbody>\n",
              "</table>\n",
              "</div>\n",
              "      <button class=\"colab-df-convert\" onclick=\"convertToInteractive('df-54ae2b3d-1261-46bf-8e93-d1c9b2baff42')\"\n",
              "              title=\"Convert this dataframe to an interactive table.\"\n",
              "              style=\"display:none;\">\n",
              "        \n",
              "  <svg xmlns=\"http://www.w3.org/2000/svg\" height=\"24px\"viewBox=\"0 0 24 24\"\n",
              "       width=\"24px\">\n",
              "    <path d=\"M0 0h24v24H0V0z\" fill=\"none\"/>\n",
              "    <path d=\"M18.56 5.44l.94 2.06.94-2.06 2.06-.94-2.06-.94-.94-2.06-.94 2.06-2.06.94zm-11 1L8.5 8.5l.94-2.06 2.06-.94-2.06-.94L8.5 2.5l-.94 2.06-2.06.94zm10 10l.94 2.06.94-2.06 2.06-.94-2.06-.94-.94-2.06-.94 2.06-2.06.94z\"/><path d=\"M17.41 7.96l-1.37-1.37c-.4-.4-.92-.59-1.43-.59-.52 0-1.04.2-1.43.59L10.3 9.45l-7.72 7.72c-.78.78-.78 2.05 0 2.83L4 21.41c.39.39.9.59 1.41.59.51 0 1.02-.2 1.41-.59l7.78-7.78 2.81-2.81c.8-.78.8-2.07 0-2.86zM5.41 20L4 18.59l7.72-7.72 1.47 1.35L5.41 20z\"/>\n",
              "  </svg>\n",
              "      </button>\n",
              "      \n",
              "  <style>\n",
              "    .colab-df-container {\n",
              "      display:flex;\n",
              "      flex-wrap:wrap;\n",
              "      gap: 12px;\n",
              "    }\n",
              "\n",
              "    .colab-df-convert {\n",
              "      background-color: #E8F0FE;\n",
              "      border: none;\n",
              "      border-radius: 50%;\n",
              "      cursor: pointer;\n",
              "      display: none;\n",
              "      fill: #1967D2;\n",
              "      height: 32px;\n",
              "      padding: 0 0 0 0;\n",
              "      width: 32px;\n",
              "    }\n",
              "\n",
              "    .colab-df-convert:hover {\n",
              "      background-color: #E2EBFA;\n",
              "      box-shadow: 0px 1px 2px rgba(60, 64, 67, 0.3), 0px 1px 3px 1px rgba(60, 64, 67, 0.15);\n",
              "      fill: #174EA6;\n",
              "    }\n",
              "\n",
              "    [theme=dark] .colab-df-convert {\n",
              "      background-color: #3B4455;\n",
              "      fill: #D2E3FC;\n",
              "    }\n",
              "\n",
              "    [theme=dark] .colab-df-convert:hover {\n",
              "      background-color: #434B5C;\n",
              "      box-shadow: 0px 1px 3px 1px rgba(0, 0, 0, 0.15);\n",
              "      filter: drop-shadow(0px 1px 2px rgba(0, 0, 0, 0.3));\n",
              "      fill: #FFFFFF;\n",
              "    }\n",
              "  </style>\n",
              "\n",
              "      <script>\n",
              "        const buttonEl =\n",
              "          document.querySelector('#df-54ae2b3d-1261-46bf-8e93-d1c9b2baff42 button.colab-df-convert');\n",
              "        buttonEl.style.display =\n",
              "          google.colab.kernel.accessAllowed ? 'block' : 'none';\n",
              "\n",
              "        async function convertToInteractive(key) {\n",
              "          const element = document.querySelector('#df-54ae2b3d-1261-46bf-8e93-d1c9b2baff42');\n",
              "          const dataTable =\n",
              "            await google.colab.kernel.invokeFunction('convertToInteractive',\n",
              "                                                     [key], {});\n",
              "          if (!dataTable) return;\n",
              "\n",
              "          const docLinkHtml = 'Like what you see? Visit the ' +\n",
              "            '<a target=\"_blank\" href=https://colab.research.google.com/notebooks/data_table.ipynb>data table notebook</a>'\n",
              "            + ' to learn more about interactive tables.';\n",
              "          element.innerHTML = '';\n",
              "          dataTable['output_type'] = 'display_data';\n",
              "          await google.colab.output.renderOutput(dataTable, element);\n",
              "          const docLink = document.createElement('div');\n",
              "          docLink.innerHTML = docLinkHtml;\n",
              "          element.appendChild(docLink);\n",
              "        }\n",
              "      </script>\n",
              "    </div>\n",
              "  </div>\n",
              "  "
            ]
          },
          "metadata": {},
          "execution_count": 5
        }
      ]
    },
    {
      "cell_type": "code",
      "source": [
        "df = df.drop('Close',axis='columns')"
      ],
      "metadata": {
        "id": "TVknQBwg8r__"
      },
      "execution_count": 6,
      "outputs": []
    },
    {
      "cell_type": "code",
      "source": [
        "df.Index.unique()"
      ],
      "metadata": {
        "colab": {
          "base_uri": "https://localhost:8080/"
        },
        "id": "vY6sbPCv8sH-",
        "outputId": "201d8f84-233f-4801-d6b4-6e04c9e78178"
      },
      "execution_count": 7,
      "outputs": [
        {
          "output_type": "execute_result",
          "data": {
            "text/plain": [
              "array(['HSI', 'NYA', 'IXIC', '000001.SS', 'N225', 'N100', '399001.SZ',\n",
              "       'GSPTSE', 'NSEI', 'GDAXI', 'SSMI', 'TWII', 'J203.JO'], dtype=object)"
            ]
          },
          "metadata": {},
          "execution_count": 7
        }
      ]
    },
    {
      "cell_type": "code",
      "source": [
        "plt.figure(figsize=(10,10))\n",
        "df.Index.value_counts().plot.pie(autopct='%1.1f%%',shadow=True)"
      ],
      "metadata": {
        "colab": {
          "base_uri": "https://localhost:8080/",
          "height": 593
        },
        "id": "XX0SWHGy8sN-",
        "outputId": "0b1071e6-5ffe-4f72-dbf4-d0f552bb38de"
      },
      "execution_count": 8,
      "outputs": [
        {
          "output_type": "execute_result",
          "data": {
            "text/plain": [
              "<matplotlib.axes._subplots.AxesSubplot at 0x7f377d294ad0>"
            ]
          },
          "metadata": {},
          "execution_count": 8
        },
        {
          "output_type": "display_data",
          "data": {
            "text/plain": [
              "<Figure size 720x720 with 1 Axes>"
            ],
            "image/png": "[encoded data removed]"
          },
          "metadata": {}
        }
      ]
    },
    {
      "cell_type": "code",
      "source": [
        "#NYA = df.groupby(df.Index).get_group('NYA')\n",
        "IXIC = df.groupby(df.Index).get_group('IXIC')"
      ],
      "metadata": {
        "id": "BO507lzQ8sTL"
      },
      "execution_count": 9,
      "outputs": []
    },
    {
      "cell_type": "code",
      "source": [
        "sns.boxplot(data=IXIC)\n",
        "plt.xticks(rotation=\"90\")\n",
        "plt.show()"
      ],
      "metadata": {
        "colab": {
          "base_uri": "https://localhost:8080/",
          "height": 315
        },
        "id": "w2eFsYmv8sZZ",
        "outputId": "eb9bbdca-8a6e-4cd6-a3ab-4169234f63af"
      },
      "execution_count": 10,
      "outputs": [
        {
          "output_type": "display_data",
          "data": {
            "text/plain": [
              "<Figure size 432x288 with 1 Axes>"
            ],
            "image/png": "[encoded data removed]"
          },
          "metadata": {
            "needs_background": "light"
          }
        }
      ]
    },
    {
      "cell_type": "code",
      "source": [
        "IXIC.Volume"
      ],
      "metadata": {
        "colab": {
          "base_uri": "https://localhost:8080/"
        },
        "id": "QWr2I11w-c9Q",
        "outputId": "4e5ad6a4-0584-4df7-f2be-429447afb865"
      },
      "execution_count": 11,
      "outputs": [
        {
          "output_type": "execute_result",
          "data": {
            "text/plain": [
              "Date\n",
              "1971-02-05    0.000000e+00\n",
              "1971-02-08    0.000000e+00\n",
              "1971-02-09    0.000000e+00\n",
              "1971-02-10    0.000000e+00\n",
              "1971-02-11    0.000000e+00\n",
              "                  ...     \n",
              "2021-05-24    3.490650e+09\n",
              "2021-05-25    4.084480e+09\n",
              "2021-05-26    4.231140e+09\n",
              "2021-05-27    5.057550e+09\n",
              "2021-05-28    4.435220e+09\n",
              "Name: Volume, Length: 12690, dtype: float64"
            ]
          },
          "metadata": {},
          "execution_count": 11
        }
      ]
    },
    {
      "cell_type": "markdown",
      "source": [
        "Values equal to absolute zero exist in the 'Volume' column, therefore log transformation isn't feasible."
      ],
      "metadata": {
        "id": "VHmNJi_f-xNu"
      }
    },
    {
      "cell_type": "code",
      "source": [
        "upper_lim = IXIC.Volume.mean() +3*IXIC.Volume.std()  ## Removing the outliers\n",
        "lower_lim = IXIC.Volume.mean() -3*IXIC.Volume.std()"
      ],
      "metadata": {
        "id": "V-5xIApr-dDO"
      },
      "execution_count": 12,
      "outputs": []
    },
    {
      "cell_type": "code",
      "source": [
        "IXIC = IXIC[(IXIC.Volume > lower_lim) & (IXIC.Volume < upper_lim)]"
      ],
      "metadata": {
        "id": "iwm3Z5Nz-dIT"
      },
      "execution_count": 13,
      "outputs": []
    },
    {
      "cell_type": "code",
      "source": [
        "fig, ax = plt.subplots(figsize=(4, 4))\n",
        "ax =sns.kdeplot(IXIC['CloseUSD'], shade=True, color=\"b\")"
      ],
      "metadata": {
        "colab": {
          "base_uri": "https://localhost:8080/",
          "height": 279
        },
        "id": "Gt-4Sea0-dNQ",
        "outputId": "5c1e78e8-a9ac-4c0a-aebb-3787aa8529cb"
      },
      "execution_count": 14,
      "outputs": [
        {
          "output_type": "display_data",
          "data": {
            "text/plain": [
              "<Figure size 288x288 with 1 Axes>"
            ],
            "image/png": "[encoded data removed]"
          },
          "metadata": {
            "needs_background": "light"
          }
        }
      ]
    },
    {
      "cell_type": "code",
      "source": [
        "ax = sns.kdeplot(IXIC['Volume'], shade=True, color=\"r\")"
      ],
      "metadata": {
        "colab": {
          "base_uri": "https://localhost:8080/",
          "height": 290
        },
        "id": "obVUyEJl-dSx",
        "outputId": "0d18c35d-e6f8-455d-d5c3-045b823ff884"
      },
      "execution_count": 15,
      "outputs": [
        {
          "output_type": "display_data",
          "data": {
            "text/plain": [
              "<Figure size 432x288 with 1 Axes>"
            ],
            "image/png": "[encoded data removed]"
          },
          "metadata": {
            "needs_background": "light"
          }
        }
      ]
    },
    {
      "cell_type": "code",
      "source": [
        "plt.figure(figsize=(10,10))\n",
        "sns.heatmap(IXIC.corr(), cmap='YlGnBu', annot = True)"
      ],
      "metadata": {
        "colab": {
          "base_uri": "https://localhost:8080/",
          "height": 613
        },
        "id": "hYi5_Up5-dZu",
        "outputId": "62fdd6cb-5b2d-4a76-c8ed-32667a6d79b1"
      },
      "execution_count": 16,
      "outputs": [
        {
          "output_type": "execute_result",
          "data": {
            "text/plain": [
              "<matplotlib.axes._subplots.AxesSubplot at 0x7f377b298110>"
            ]
          },
          "metadata": {},
          "execution_count": 16
        },
        {
          "output_type": "display_data",
          "data": {
            "text/plain": [
              "<Figure size 720x720 with 2 Axes>"
            ],
            "image/png": "[encoded data removed]"
          },
          "metadata": {
            "needs_background": "light"
          }
        }
      ]
    },
    {
      "cell_type": "code",
      "source": [
        "fig,ax = plt.subplots(figsize = (10,10))\n",
        "ax.plot(IXIC['CloseUSD'])"
      ],
      "metadata": {
        "colab": {
          "base_uri": "https://localhost:8080/",
          "height": 610
        },
        "id": "eKYquWpg-dfR",
        "outputId": "b67a226a-029d-4a9c-d198-69f8348cdc1a"
      },
      "execution_count": 17,
      "outputs": [
        {
          "output_type": "execute_result",
          "data": {
            "text/plain": [
              "[<matplotlib.lines.Line2D at 0x7f37788bf790>]"
            ]
          },
          "metadata": {},
          "execution_count": 17
        },
        {
          "output_type": "display_data",
          "data": {
            "text/plain": [
              "<Figure size 720x720 with 1 Axes>"
            ],
            "image/png": "[encoded data removed]"
          },
          "metadata": {
            "needs_background": "light"
          }
        }
      ]
    },
    {
      "cell_type": "code",
      "source": [
        "IXIC = IXIC.drop(['Index'], axis = 'columns')"
      ],
      "metadata": {
        "id": "3eUuzPtD-djk"
      },
      "execution_count": 18,
      "outputs": []
    },
    {
      "cell_type": "code",
      "source": [
        "IXIC.head()"
      ],
      "metadata": {
        "colab": {
          "base_uri": "https://localhost:8080/",
          "height": 237
        },
        "id": "zeYB1IV4OGl7",
        "outputId": "f19d1ca2-ba8f-400c-b68c-4cc48fcdc214"
      },
      "execution_count": 41,
      "outputs": [
        {
          "output_type": "execute_result",
          "data": {
            "text/plain": [
              "                  Open        High         Low   Adj Close  Volume    CloseUSD\n",
              "Date                                                                          \n",
              "1971-02-05  100.000000  100.000000  100.000000  100.000000     0.0  100.000000\n",
              "1971-02-08  100.839996  100.839996  100.839996  100.839996     0.0  100.839996\n",
              "1971-02-09  100.760002  100.760002  100.760002  100.760002     0.0  100.760002\n",
              "1971-02-10  100.690002  100.690002  100.690002  100.690002     0.0  100.690002\n",
              "1971-02-11  101.449997  101.449997  101.449997  101.449997     0.0  101.449997"
            ],
            "text/html": [
              "\n",
              "  <div id=\"df-c1f0f667-cdb1-4855-9a33-71bce890b267\">\n",
              "    <div class=\"colab-df-container\">\n",
              "      <div>\n",
              "<style scoped>\n",
              "    .dataframe tbody tr th:only-of-type {\n",
              "        vertical-align: middle;\n",
              "    }\n",
              "\n",
              "    .dataframe tbody tr th {\n",
              "        vertical-align: top;\n",
              "    }\n",
              "\n",
              "    .dataframe thead th {\n",
              "        text-align: right;\n",
              "    }\n",
              "</style>\n",
              "<table border=\"1\" class=\"dataframe\">\n",
              "  <thead>\n",
              "    <tr style=\"text-align: right;\">\n",
              "      <th></th>\n",
              "      <th>Open</th>\n",
              "      <th>High</th>\n",
              "      <th>Low</th>\n",
              "      <th>Adj Close</th>\n",
              "      <th>Volume</th>\n",
              "      <th>CloseUSD</th>\n",
              "    </tr>\n",
              "    <tr>\n",
              "      <th>Date</th>\n",
              "      <th></th>\n",
              "      <th></th>\n",
              "      <th></th>\n",
              "      <th></th>\n",
              "      <th></th>\n",
              "      <th></th>\n",
              "    </tr>\n",
              "  </thead>\n",
              "  <tbody>\n",
              "    <tr>\n",
              "      <th>1971-02-05</th>\n",
              "      <td>100.000000</td>\n",
              "      <td>100.000000</td>\n",
              "      <td>100.000000</td>\n",
              "      <td>100.000000</td>\n",
              "      <td>0.0</td>\n",
              "      <td>100.000000</td>\n",
              "    </tr>\n",
              "    <tr>\n",
              "      <th>1971-02-08</th>\n",
              "      <td>100.839996</td>\n",
              "      <td>100.839996</td>\n",
              "      <td>100.839996</td>\n",
              "      <td>100.839996</td>\n",
              "      <td>0.0</td>\n",
              "      <td>100.839996</td>\n",
              "    </tr>\n",
              "    <tr>\n",
              "      <th>1971-02-09</th>\n",
              "      <td>100.760002</td>\n",
              "      <td>100.760002</td>\n",
              "      <td>100.760002</td>\n",
              "      <td>100.760002</td>\n",
              "      <td>0.0</td>\n",
              "      <td>100.760002</td>\n",
              "    </tr>\n",
              "    <tr>\n",
              "      <th>1971-02-10</th>\n",
              "      <td>100.690002</td>\n",
              "      <td>100.690002</td>\n",
              "      <td>100.690002</td>\n",
              "      <td>100.690002</td>\n",
              "      <td>0.0</td>\n",
              "      <td>100.690002</td>\n",
              "    </tr>\n",
              "    <tr>\n",
              "      <th>1971-02-11</th>\n",
              "      <td>101.449997</td>\n",
              "      <td>101.449997</td>\n",
              "      <td>101.449997</td>\n",
              "      <td>101.449997</td>\n",
              "      <td>0.0</td>\n",
              "      <td>101.449997</td>\n",
              "    </tr>\n",
              "  </tbody>\n",
              "</table>\n",
              "</div>\n",
              "      <button class=\"colab-df-convert\" onclick=\"convertToInteractive('df-c1f0f667-cdb1-4855-9a33-71bce890b267')\"\n",
              "              title=\"Convert this dataframe to an interactive table.\"\n",
              "              style=\"display:none;\">\n",
              "        \n",
              "  <svg xmlns=\"http://www.w3.org/2000/svg\" height=\"24px\"viewBox=\"0 0 24 24\"\n",
              "       width=\"24px\">\n",
              "    <path d=\"M0 0h24v24H0V0z\" fill=\"none\"/>\n",
              "    <path d=\"M18.56 5.44l.94 2.06.94-2.06 2.06-.94-2.06-.94-.94-2.06-.94 2.06-2.06.94zm-11 1L8.5 8.5l.94-2.06 2.06-.94-2.06-.94L8.5 2.5l-.94 2.06-2.06.94zm10 10l.94 2.06.94-2.06 2.06-.94-2.06-.94-.94-2.06-.94 2.06-2.06.94z\"/><path d=\"M17.41 7.96l-1.37-1.37c-.4-.4-.92-.59-1.43-.59-.52 0-1.04.2-1.43.59L10.3 9.45l-7.72 7.72c-.78.78-.78 2.05 0 2.83L4 21.41c.39.39.9.59 1.41.59.51 0 1.02-.2 1.41-.59l7.78-7.78 2.81-2.81c.8-.78.8-2.07 0-2.86zM5.41 20L4 18.59l7.72-7.72 1.47 1.35L5.41 20z\"/>\n",
              "  </svg>\n",
              "      </button>\n",
              "      \n",
              "  <style>\n",
              "    .colab-df-container {\n",
              "      display:flex;\n",
              "      flex-wrap:wrap;\n",
              "      gap: 12px;\n",
              "    }\n",
              "\n",
              "    .colab-df-convert {\n",
              "      background-color: #E8F0FE;\n",
              "      border: none;\n",
              "      border-radius: 50%;\n",
              "      cursor: pointer;\n",
              "      display: none;\n",
              "      fill: #1967D2;\n",
              "      height: 32px;\n",
              "      padding: 0 0 0 0;\n",
              "      width: 32px;\n",
              "    }\n",
              "\n",
              "    .colab-df-convert:hover {\n",
              "      background-color: #E2EBFA;\n",
              "      box-shadow: 0px 1px 2px rgba(60, 64, 67, 0.3), 0px 1px 3px 1px rgba(60, 64, 67, 0.15);\n",
              "      fill: #174EA6;\n",
              "    }\n",
              "\n",
              "    [theme=dark] .colab-df-convert {\n",
              "      background-color: #3B4455;\n",
              "      fill: #D2E3FC;\n",
              "    }\n",
              "\n",
              "    [theme=dark] .colab-df-convert:hover {\n",
              "      background-color: #434B5C;\n",
              "      box-shadow: 0px 1px 3px 1px rgba(0, 0, 0, 0.15);\n",
              "      filter: drop-shadow(0px 1px 2px rgba(0, 0, 0, 0.3));\n",
              "      fill: #FFFFFF;\n",
              "    }\n",
              "  </style>\n",
              "\n",
              "      <script>\n",
              "        const buttonEl =\n",
              "          document.querySelector('#df-c1f0f667-cdb1-4855-9a33-71bce890b267 button.colab-df-convert');\n",
              "        buttonEl.style.display =\n",
              "          google.colab.kernel.accessAllowed ? 'block' : 'none';\n",
              "\n",
              "        async function convertToInteractive(key) {\n",
              "          const element = document.querySelector('#df-c1f0f667-cdb1-4855-9a33-71bce890b267');\n",
              "          const dataTable =\n",
              "            await google.colab.kernel.invokeFunction('convertToInteractive',\n",
              "                                                     [key], {});\n",
              "          if (!dataTable) return;\n",
              "\n",
              "          const docLinkHtml = 'Like what you see? Visit the ' +\n",
              "            '<a target=\"_blank\" href=https://colab.research.google.com/notebooks/data_table.ipynb>data table notebook</a>'\n",
              "            + ' to learn more about interactive tables.';\n",
              "          element.innerHTML = '';\n",
              "          dataTable['output_type'] = 'display_data';\n",
              "          await google.colab.output.renderOutput(dataTable, element);\n",
              "          const docLink = document.createElement('div');\n",
              "          docLink.innerHTML = docLinkHtml;\n",
              "          element.appendChild(docLink);\n",
              "        }\n",
              "      </script>\n",
              "    </div>\n",
              "  </div>\n",
              "  "
            ]
          },
          "metadata": {},
          "execution_count": 41
        }
      ]
    },
    {
      "cell_type": "code",
      "source": [
        "y = IXIC['CloseUSD']\n",
        "X = IXIC.drop('CloseUSD',axis = 'columns')"
      ],
      "metadata": {
        "id": "kjy9isrE-dnH"
      },
      "execution_count": 19,
      "outputs": []
    },
    {
      "cell_type": "code",
      "source": [
        "from sklearn.preprocessing import MinMaxScaler\n",
        "from sklearn.model_selection import train_test_split"
      ],
      "metadata": {
        "id": "oa37LVY6-drI"
      },
      "execution_count": 20,
      "outputs": []
    },
    {
      "cell_type": "markdown",
      "source": [
        "It is crucial to scale our dataset since, the units of Volume and CloseUSD are evidently different."
      ],
      "metadata": {
        "id": "kyqrqk4-HmLh"
      }
    },
    {
      "cell_type": "code",
      "source": [
        "mmc = MinMaxScaler()\n",
        "scaled_IXIC = mmc.fit_transform(IXIC)\n",
        "scaled_IXIC = pd.DataFrame(scaled_IXIC , columns = ['Open','High','Low','Adj Close','Volume','CloseUSD'])"
      ],
      "metadata": {
        "id": "ZaL5buux-gfA"
      },
      "execution_count": 21,
      "outputs": []
    },
    {
      "cell_type": "code",
      "source": [
        "scaled_IXIC"
      ],
      "metadata": {
        "colab": {
          "base_uri": "https://localhost:8080/",
          "height": 423
        },
        "id": "nHKQoBad-gjE",
        "outputId": "07c6d5f3-d4aa-4148-81e6-51cd8591befb"
      },
      "execution_count": 22,
      "outputs": [
        {
          "output_type": "execute_result",
          "data": {
            "text/plain": [
              "           Open      High       Low  Adj Close    Volume  CloseUSD\n",
              "0      0.003235  0.003228  0.003259   0.003237  0.000000  0.003237\n",
              "1      0.003296  0.003289  0.003320   0.003297  0.000000  0.003297\n",
              "2      0.003290  0.003283  0.003314   0.003292  0.000000  0.003292\n",
              "3      0.003285  0.003278  0.003309   0.003287  0.000000  0.003287\n",
              "4      0.003339  0.003332  0.003364   0.003341  0.000000  0.003341\n",
              "...         ...       ...       ...        ...       ...       ...\n",
              "12521  0.953585  0.966370  0.960517   0.966979  0.917360  0.966979\n",
              "12522  0.972193  0.970165  0.968284   0.962334  0.855443  0.962334\n",
              "12523  0.967964  0.976766  0.974621   0.975976  0.806041  0.975976\n",
              "12524  0.979745  0.979791  0.980455   0.975689  0.943165  0.975689\n",
              "12525  0.977767  0.979721  0.983906   0.981487  0.977031  0.981487\n",
              "\n",
              "[12526 rows x 6 columns]"
            ],
            "text/html": [
              "\n",
              "  <div id=\"df-9633a9c5-5e63-4c43-834f-d056891495f5\">\n",
              "    <div class=\"colab-df-container\">\n",
              "      <div>\n",
              "<style scoped>\n",
              "    .dataframe tbody tr th:only-of-type {\n",
              "        vertical-align: middle;\n",
              "    }\n",
              "\n",
              "    .dataframe tbody tr th {\n",
              "        vertical-align: top;\n",
              "    }\n",
              "\n",
              "    .dataframe thead th {\n",
              "        text-align: right;\n",
              "    }\n",
              "</style>\n",
              "<table border=\"1\" class=\"dataframe\">\n",
              "  <thead>\n",
              "    <tr style=\"text-align: right;\">\n",
              "      <th></th>\n",
              "      <th>Open</th>\n",
              "      <th>High</th>\n",
              "      <th>Low</th>\n",
              "      <th>Adj Close</th>\n",
              "      <th>Volume</th>\n",
              "      <th>CloseUSD</th>\n",
              "    </tr>\n",
              "  </thead>\n",
              "  <tbody>\n",
              "    <tr>\n",
              "      <th>0</th>\n",
              "      <td>0.003235</td>\n",
              "      <td>0.003228</td>\n",
              "      <td>0.003259</td>\n",
              "      <td>0.003237</td>\n",
              "      <td>0.000000</td>\n",
              "      <td>0.003237</td>\n",
              "    </tr>\n",
              "    <tr>\n",
              "      <th>1</th>\n",
              "      <td>0.003296</td>\n",
              "      <td>0.003289</td>\n",
              "      <td>0.003320</td>\n",
              "      <td>0.003297</td>\n",
              "      <td>0.000000</td>\n",
              "      <td>0.003297</td>\n",
              "    </tr>\n",
              "    <tr>\n",
              "      <th>2</th>\n",
              "      <td>0.003290</td>\n",
              "      <td>0.003283</td>\n",
              "      <td>0.003314</td>\n",
              "      <td>0.003292</td>\n",
              "      <td>0.000000</td>\n",
              "      <td>0.003292</td>\n",
              "    </tr>\n",
              "    <tr>\n",
              "      <th>3</th>\n",
              "      <td>0.003285</td>\n",
              "      <td>0.003278</td>\n",
              "      <td>0.003309</td>\n",
              "      <td>0.003287</td>\n",
              "      <td>0.000000</td>\n",
              "      <td>0.003287</td>\n",
              "    </tr>\n",
              "    <tr>\n",
              "      <th>4</th>\n",
              "      <td>0.003339</td>\n",
              "      <td>0.003332</td>\n",
              "      <td>0.003364</td>\n",
              "      <td>0.003341</td>\n",
              "      <td>0.000000</td>\n",
              "      <td>0.003341</td>\n",
              "    </tr>\n",
              "    <tr>\n",
              "      <th>...</th>\n",
              "      <td>...</td>\n",
              "      <td>...</td>\n",
              "      <td>...</td>\n",
              "      <td>...</td>\n",
              "      <td>...</td>\n",
              "      <td>...</td>\n",
              "    </tr>\n",
              "    <tr>\n",
              "      <th>12521</th>\n",
              "      <td>0.953585</td>\n",
              "      <td>0.966370</td>\n",
              "      <td>0.960517</td>\n",
              "      <td>0.966979</td>\n",
              "      <td>0.917360</td>\n",
              "      <td>0.966979</td>\n",
              "    </tr>\n",
              "    <tr>\n",
              "      <th>12522</th>\n",
              "      <td>0.972193</td>\n",
              "      <td>0.970165</td>\n",
              "      <td>0.968284</td>\n",
              "      <td>0.962334</td>\n",
              "      <td>0.855443</td>\n",
              "      <td>0.962334</td>\n",
              "    </tr>\n",
              "    <tr>\n",
              "      <th>12523</th>\n",
              "      <td>0.967964</td>\n",
              "      <td>0.976766</td>\n",
              "      <td>0.974621</td>\n",
              "      <td>0.975976</td>\n",
              "      <td>0.806041</td>\n",
              "      <td>0.975976</td>\n",
              "    </tr>\n",
              "    <tr>\n",
              "      <th>12524</th>\n",
              "      <td>0.979745</td>\n",
              "      <td>0.979791</td>\n",
              "      <td>0.980455</td>\n",
              "      <td>0.975689</td>\n",
              "      <td>0.943165</td>\n",
              "      <td>0.975689</td>\n",
              "    </tr>\n",
              "    <tr>\n",
              "      <th>12525</th>\n",
              "      <td>0.977767</td>\n",
              "      <td>0.979721</td>\n",
              "      <td>0.983906</td>\n",
              "      <td>0.981487</td>\n",
              "      <td>0.977031</td>\n",
              "      <td>0.981487</td>\n",
              "    </tr>\n",
              "  </tbody>\n",
              "</table>\n",
              "<p>12526 rows × 6 columns</p>\n",
              "</div>\n",
              "      <button class=\"colab-df-convert\" onclick=\"convertToInteractive('df-9633a9c5-5e63-4c43-834f-d056891495f5')\"\n",
              "              title=\"Convert this dataframe to an interactive table.\"\n",
              "              style=\"display:none;\">\n",
              "        \n",
              "  <svg xmlns=\"http://www.w3.org/2000/svg\" height=\"24px\"viewBox=\"0 0 24 24\"\n",
              "       width=\"24px\">\n",
              "    <path d=\"M0 0h24v24H0V0z\" fill=\"none\"/>\n",
              "    <path d=\"M18.56 5.44l.94 2.06.94-2.06 2.06-.94-2.06-.94-.94-2.06-.94 2.06-2.06.94zm-11 1L8.5 8.5l.94-2.06 2.06-.94-2.06-.94L8.5 2.5l-.94 2.06-2.06.94zm10 10l.94 2.06.94-2.06 2.06-.94-2.06-.94-.94-2.06-.94 2.06-2.06.94z\"/><path d=\"M17.41 7.96l-1.37-1.37c-.4-.4-.92-.59-1.43-.59-.52 0-1.04.2-1.43.59L10.3 9.45l-7.72 7.72c-.78.78-.78 2.05 0 2.83L4 21.41c.39.39.9.59 1.41.59.51 0 1.02-.2 1.41-.59l7.78-7.78 2.81-2.81c.8-.78.8-2.07 0-2.86zM5.41 20L4 18.59l7.72-7.72 1.47 1.35L5.41 20z\"/>\n",
              "  </svg>\n",
              "      </button>\n",
              "      \n",
              "  <style>\n",
              "    .colab-df-container {\n",
              "      display:flex;\n",
              "      flex-wrap:wrap;\n",
              "      gap: 12px;\n",
              "    }\n",
              "\n",
              "    .colab-df-convert {\n",
              "      background-color: #E8F0FE;\n",
              "      border: none;\n",
              "      border-radius: 50%;\n",
              "      cursor: pointer;\n",
              "      display: none;\n",
              "      fill: #1967D2;\n",
              "      height: 32px;\n",
              "      padding: 0 0 0 0;\n",
              "      width: 32px;\n",
              "    }\n",
              "\n",
              "    .colab-df-convert:hover {\n",
              "      background-color: #E2EBFA;\n",
              "      box-shadow: 0px 1px 2px rgba(60, 64, 67, 0.3), 0px 1px 3px 1px rgba(60, 64, 67, 0.15);\n",
              "      fill: #174EA6;\n",
              "    }\n",
              "\n",
              "    [theme=dark] .colab-df-convert {\n",
              "      background-color: #3B4455;\n",
              "      fill: #D2E3FC;\n",
              "    }\n",
              "\n",
              "    [theme=dark] .colab-df-convert:hover {\n",
              "      background-color: #434B5C;\n",
              "      box-shadow: 0px 1px 3px 1px rgba(0, 0, 0, 0.15);\n",
              "      filter: drop-shadow(0px 1px 2px rgba(0, 0, 0, 0.3));\n",
              "      fill: #FFFFFF;\n",
              "    }\n",
              "  </style>\n",
              "\n",
              "      <script>\n",
              "        const buttonEl =\n",
              "          document.querySelector('#df-9633a9c5-5e63-4c43-834f-d056891495f5 button.colab-df-convert');\n",
              "        buttonEl.style.display =\n",
              "          google.colab.kernel.accessAllowed ? 'block' : 'none';\n",
              "\n",
              "        async function convertToInteractive(key) {\n",
              "          const element = document.querySelector('#df-9633a9c5-5e63-4c43-834f-d056891495f5');\n",
              "          const dataTable =\n",
              "            await google.colab.kernel.invokeFunction('convertToInteractive',\n",
              "                                                     [key], {});\n",
              "          if (!dataTable) return;\n",
              "\n",
              "          const docLinkHtml = 'Like what you see? Visit the ' +\n",
              "            '<a target=\"_blank\" href=https://colab.research.google.com/notebooks/data_table.ipynb>data table notebook</a>'\n",
              "            + ' to learn more about interactive tables.';\n",
              "          element.innerHTML = '';\n",
              "          dataTable['output_type'] = 'display_data';\n",
              "          await google.colab.output.renderOutput(dataTable, element);\n",
              "          const docLink = document.createElement('div');\n",
              "          docLink.innerHTML = docLinkHtml;\n",
              "          element.appendChild(docLink);\n",
              "        }\n",
              "      </script>\n",
              "    </div>\n",
              "  </div>\n",
              "  "
            ]
          },
          "metadata": {},
          "execution_count": 22
        }
      ]
    },
    {
      "cell_type": "markdown",
      "source": [
        "Splliting our dataset into training and testing samples,"
      ],
      "metadata": {
        "id": "BTSFE7h2Hx3H"
      }
    },
    {
      "cell_type": "code",
      "source": [
        "train1 = scaled_IXIC.iloc[:int(len(IXIC)*0.8)]\n",
        "test1 = scaled_IXIC.iloc[int(len(IXIC)*0.8):]"
      ],
      "metadata": {
        "id": "5_KP2Z56-gp5"
      },
      "execution_count": 23,
      "outputs": []
    },
    {
      "cell_type": "code",
      "source": [
        "fig,ax = plt.subplots(figsize=(10,10))\n",
        "ax.plot(train1.CloseUSD)\n",
        "ax.plot(test1.CloseUSD)"
      ],
      "metadata": {
        "colab": {
          "base_uri": "https://localhost:8080/",
          "height": 610
        },
        "id": "kWdlyvJ48sfE",
        "outputId": "07e237bd-38e9-4eb1-aeef-81e5729bcfe6"
      },
      "execution_count": 24,
      "outputs": [
        {
          "output_type": "execute_result",
          "data": {
            "text/plain": [
              "[<matplotlib.lines.Line2D at 0x7f3777eb9150>]"
            ]
          },
          "metadata": {},
          "execution_count": 24
        },
        {
          "output_type": "display_data",
          "data": {
            "text/plain": [
              "<Figure size 720x720 with 1 Axes>"
            ],
            "image/png": "[encoded data removed]"
          },
          "metadata": {
            "needs_background": "light"
          }
        }
      ]
    },
    {
      "cell_type": "code",
      "source": [
        "X_train1,X_test1,y_train1,y_test1 = train1.drop('CloseUSD',axis='columns'),test1.drop(['CloseUSD'],axis='columns'),train1['CloseUSD'],test1['CloseUSD']"
      ],
      "metadata": {
        "id": "sKH78roB8skm"
      },
      "execution_count": 25,
      "outputs": []
    },
    {
      "cell_type": "markdown",
      "source": [
        "Time to build the model, we first define a custom made function (build_model) which will look for the optimum no. of layers and find the best hyperparameters using Hyperband."
      ],
      "metadata": {
        "id": "rvQohoIfH6uX"
      }
    },
    {
      "cell_type": "code",
      "source": [
        "from tensorflow import keras "
      ],
      "metadata": {
        "id": "3vKqrT9A8sqX"
      },
      "execution_count": 26,
      "outputs": []
    },
    {
      "cell_type": "code",
      "source": [
        "def build_model(hp):\n",
        "    model = keras.Sequential()\n",
        "    model.add(keras.layers.Flatten(input_shape=(5, 1)))\n",
        "\n",
        "    hp_units = hp.Int('units', min_value = 32, max_value = 512, step = 16)\n",
        "    model.add(keras.layers.Dense(units = hp_units, activation = 'relu'))\n",
        "    model.add(keras.layers.Dense(10))\n",
        "\n",
        "    hp_learning_rate = hp.Choice('learning_rate', values = [1e-1,1e-2, 1e-3, 1e-4,1e-5]) \n",
        "\n",
        "    model.compile(optimizer = keras.optimizers.Adam(learning_rate = hp_learning_rate),\n",
        "                loss = keras.losses.MeanAbsoluteError(), \n",
        "                metrics = ['accuracy'])\n",
        "\n",
        "    return model"
      ],
      "metadata": {
        "id": "hrIqtxtxH9YJ"
      },
      "execution_count": 27,
      "outputs": []
    },
    {
      "cell_type": "code",
      "source": [
        "!pip install keras_tuner"
      ],
      "metadata": {
        "colab": {
          "base_uri": "https://localhost:8080/"
        },
        "id": "9Mac4q0Owzn6",
        "outputId": "ed0a0fb1-4b4e-4f61-f45f-2c386d23d011"
      },
      "execution_count": 29,
      "outputs": [
        {
          "output_type": "stream",
          "name": "stdout",
          "text": [
            "Looking in indexes: https://pypi.org/simple, https://us-python.pkg.dev/colab-wheels/public/simple/\n",
            "Collecting keras_tuner\n",
            "  Downloading keras_tuner-1.1.3-py3-none-any.whl (135 kB)\n",
            "\u001b[K     |████████████████████████████████| 135 kB 4.8 MB/s \n",
            "\u001b[?25hRequirement already satisfied: tensorboard in /usr/local/lib/python3.7/dist-packages (from keras_tuner) (2.8.0)\n",
            "Requirement already satisfied: packaging in /usr/local/lib/python3.7/dist-packages (from keras_tuner) (21.3)\n",
            "Collecting kt-legacy\n",
            "  Downloading kt_legacy-1.0.4-py3-none-any.whl (9.6 kB)\n",
            "Requirement already satisfied: ipython in /usr/local/lib/python3.7/dist-packages (from keras_tuner) (7.9.0)\n",
            "Requirement already satisfied: requests in /usr/local/lib/python3.7/dist-packages (from keras_tuner) (2.23.0)\n",
            "Requirement already satisfied: numpy in /usr/local/lib/python3.7/dist-packages (from keras_tuner) (1.21.6)\n",
            "Requirement already satisfied: setuptools>=18.5 in /usr/local/lib/python3.7/dist-packages (from ipython->keras_tuner) (57.4.0)\n",
            "Requirement already satisfied: pickleshare in /usr/local/lib/python3.7/dist-packages (from ipython->keras_tuner) (0.7.5)\n",
            "Requirement already satisfied: pexpect in /usr/local/lib/python3.7/dist-packages (from ipython->keras_tuner) (4.8.0)\n",
            "Requirement already satisfied: backcall in /usr/local/lib/python3.7/dist-packages (from ipython->keras_tuner) (0.2.0)\n",
            "Collecting jedi>=0.10\n",
            "  Downloading jedi-0.18.1-py2.py3-none-any.whl (1.6 MB)\n",
            "\u001b[K     |████████████████████████████████| 1.6 MB 39.0 MB/s \n",
            "\u001b[?25hRequirement already satisfied: pygments in /usr/local/lib/python3.7/dist-packages (from ipython->keras_tuner) (2.6.1)\n",
            "Requirement already satisfied: traitlets>=4.2 in /usr/local/lib/python3.7/dist-packages (from ipython->keras_tuner) (5.1.1)\n",
            "Requirement already satisfied: decorator in /usr/local/lib/python3.7/dist-packages (from ipython->keras_tuner) (4.4.2)\n",
            "Requirement already satisfied: prompt-toolkit<2.1.0,>=2.0.0 in /usr/local/lib/python3.7/dist-packages (from ipython->keras_tuner) (2.0.10)\n",
            "Requirement already satisfied: parso<0.9.0,>=0.8.0 in /usr/local/lib/python3.7/dist-packages (from jedi>=0.10->ipython->keras_tuner) (0.8.3)\n",
            "Requirement already satisfied: six>=1.9.0 in /usr/local/lib/python3.7/dist-packages (from prompt-toolkit<2.1.0,>=2.0.0->ipython->keras_tuner) (1.15.0)\n",
            "Requirement already satisfied: wcwidth in /usr/local/lib/python3.7/dist-packages (from prompt-toolkit<2.1.0,>=2.0.0->ipython->keras_tuner) (0.2.5)\n",
            "Requirement already satisfied: pyparsing!=3.0.5,>=2.0.2 in /usr/local/lib/python3.7/dist-packages (from packaging->keras_tuner) (3.0.9)\n",
            "Requirement already satisfied: ptyprocess>=0.5 in /usr/local/lib/python3.7/dist-packages (from pexpect->ipython->keras_tuner) (0.7.0)\n",
            "Requirement already satisfied: certifi>=2017.4.17 in /usr/local/lib/python3.7/dist-packages (from requests->keras_tuner) (2022.6.15)\n",
            "Requirement already satisfied: idna<3,>=2.5 in /usr/local/lib/python3.7/dist-packages (from requests->keras_tuner) (2.10)\n",
            "Requirement already satisfied: chardet<4,>=3.0.2 in /usr/local/lib/python3.7/dist-packages (from requests->keras_tuner) (3.0.4)\n",
            "Requirement already satisfied: urllib3!=1.25.0,!=1.25.1,<1.26,>=1.21.1 in /usr/local/lib/python3.7/dist-packages (from requests->keras_tuner) (1.24.3)\n",
            "Requirement already satisfied: werkzeug>=0.11.15 in /usr/local/lib/python3.7/dist-packages (from tensorboard->keras_tuner) (1.0.1)\n",
            "Requirement already satisfied: grpcio>=1.24.3 in /usr/local/lib/python3.7/dist-packages (from tensorboard->keras_tuner) (1.47.0)\n",
            "Requirement already satisfied: google-auth<3,>=1.6.3 in /usr/local/lib/python3.7/dist-packages (from tensorboard->keras_tuner) (1.35.0)\n",
            "Requirement already satisfied: protobuf>=3.6.0 in /usr/local/lib/python3.7/dist-packages (from tensorboard->keras_tuner) (3.17.3)\n",
            "Requirement already satisfied: tensorboard-data-server<0.7.0,>=0.6.0 in /usr/local/lib/python3.7/dist-packages (from tensorboard->keras_tuner) (0.6.1)\n",
            "Requirement already satisfied: tensorboard-plugin-wit>=1.6.0 in /usr/local/lib/python3.7/dist-packages (from tensorboard->keras_tuner) (1.8.1)\n",
            "Requirement already satisfied: wheel>=0.26 in /usr/local/lib/python3.7/dist-packages (from tensorboard->keras_tuner) (0.37.1)\n",
            "Requirement already satisfied: google-auth-oauthlib<0.5,>=0.4.1 in /usr/local/lib/python3.7/dist-packages (from tensorboard->keras_tuner) (0.4.6)\n",
            "Requirement already satisfied: markdown>=2.6.8 in /usr/local/lib/python3.7/dist-packages (from tensorboard->keras_tuner) (3.4.1)\n",
            "Requirement already satisfied: absl-py>=0.4 in /usr/local/lib/python3.7/dist-packages (from tensorboard->keras_tuner) (1.2.0)\n",
            "Requirement already satisfied: cachetools<5.0,>=2.0.0 in /usr/local/lib/python3.7/dist-packages (from google-auth<3,>=1.6.3->tensorboard->keras_tuner) (4.2.4)\n",
            "Requirement already satisfied: rsa<5,>=3.1.4 in /usr/local/lib/python3.7/dist-packages (from google-auth<3,>=1.6.3->tensorboard->keras_tuner) (4.9)\n",
            "Requirement already satisfied: pyasn1-modules>=0.2.1 in /usr/local/lib/python3.7/dist-packages (from google-auth<3,>=1.6.3->tensorboard->keras_tuner) (0.2.8)\n",
            "Requirement already satisfied: requests-oauthlib>=0.7.0 in /usr/local/lib/python3.7/dist-packages (from google-auth-oauthlib<0.5,>=0.4.1->tensorboard->keras_tuner) (1.3.1)\n",
            "Requirement already satisfied: importlib-metadata>=4.4 in /usr/local/lib/python3.7/dist-packages (from markdown>=2.6.8->tensorboard->keras_tuner) (4.12.0)\n",
            "Requirement already satisfied: zipp>=0.5 in /usr/local/lib/python3.7/dist-packages (from importlib-metadata>=4.4->markdown>=2.6.8->tensorboard->keras_tuner) (3.8.1)\n",
            "Requirement already satisfied: typing-extensions>=3.6.4 in /usr/local/lib/python3.7/dist-packages (from importlib-metadata>=4.4->markdown>=2.6.8->tensorboard->keras_tuner) (4.1.1)\n",
            "Requirement already satisfied: pyasn1<0.5.0,>=0.4.6 in /usr/local/lib/python3.7/dist-packages (from pyasn1-modules>=0.2.1->google-auth<3,>=1.6.3->tensorboard->keras_tuner) (0.4.8)\n",
            "Requirement already satisfied: oauthlib>=3.0.0 in /usr/local/lib/python3.7/dist-packages (from requests-oauthlib>=0.7.0->google-auth-oauthlib<0.5,>=0.4.1->tensorboard->keras_tuner) (3.2.0)\n",
            "Installing collected packages: jedi, kt-legacy, keras-tuner\n",
            "Successfully installed jedi-0.18.1 keras-tuner-1.1.3 kt-legacy-1.0.4\n"
          ]
        }
      ]
    },
    {
      "cell_type": "code",
      "source": [
        "import keras_tuner as kt\n",
        "tuner = kt.Hyperband(build_model,\n",
        "                         objective = 'val_loss', \n",
        "                         max_epochs = 10,\n",
        "                         factor = 3,)\n",
        "\n",
        "tuner.search(X_train1, y_train1, epochs = 10, validation_data = (X_test1, y_test1)) "
      ],
      "metadata": {
        "colab": {
          "base_uri": "https://localhost:8080/"
        },
        "id": "Dj3IpL60H9c6",
        "outputId": "0dd004c3-1e44-4ab9-b0e0-d15d294a94a4"
      },
      "execution_count": 30,
      "outputs": [
        {
          "output_type": "stream",
          "name": "stdout",
          "text": [
            "Trial 30 Complete [00h 00m 21s]\n",
            "val_loss: 0.0019546716939657927\n",
            "\n",
            "Best val_loss So Far: 0.0019546716939657927\n",
            "Total elapsed time: 00h 03m 22s\n"
          ]
        }
      ]
    },
    {
      "cell_type": "markdown",
      "source": [
        "Using the best hyperparameters to train the model,"
      ],
      "metadata": {
        "id": "dTJ4-ZEZIJ-8"
      }
    },
    {
      "cell_type": "code",
      "source": [
        "best_hps=tuner.get_best_hyperparameters(num_trials=1)[0]"
      ],
      "metadata": {
        "id": "iRcRkCoRH9kU"
      },
      "execution_count": 31,
      "outputs": []
    },
    {
      "cell_type": "code",
      "source": [
        "model = tuner.hypermodel.build(best_hps)\n",
        "model.fit(X_train1, y_train1, epochs=50, validation_split=0.2)"
      ],
      "metadata": {
        "colab": {
          "base_uri": "https://localhost:8080/"
        },
        "id": "mAFWKxTWH9p2",
        "outputId": "60d9d5df-90b7-4a17-fae0-20f2a316351e"
      },
      "execution_count": 32,
      "outputs": [
        {
          "output_type": "stream",
          "name": "stdout",
          "text": [
            "Epoch 1/50\n",
            "251/251 [==============================] - 2s 5ms/step - loss: 0.0032 - accuracy: 0.0000e+00 - val_loss: 0.0019 - val_accuracy: 0.0000e+00\n",
            "Epoch 2/50\n",
            "251/251 [==============================] - 1s 5ms/step - loss: 6.7685e-04 - accuracy: 0.0000e+00 - val_loss: 0.0017 - val_accuracy: 0.0000e+00\n",
            "Epoch 3/50\n",
            "251/251 [==============================] - 1s 4ms/step - loss: 6.5235e-04 - accuracy: 0.0000e+00 - val_loss: 0.0011 - val_accuracy: 0.0000e+00\n",
            "Epoch 4/50\n",
            "251/251 [==============================] - 1s 3ms/step - loss: 6.3023e-04 - accuracy: 0.0000e+00 - val_loss: 0.0021 - val_accuracy: 0.0000e+00\n",
            "Epoch 5/50\n",
            "251/251 [==============================] - 1s 3ms/step - loss: 5.6722e-04 - accuracy: 0.0000e+00 - val_loss: 9.4425e-04 - val_accuracy: 0.0000e+00\n",
            "Epoch 6/50\n",
            "251/251 [==============================] - 1s 3ms/step - loss: 5.7847e-04 - accuracy: 0.0000e+00 - val_loss: 0.0019 - val_accuracy: 0.0000e+00\n",
            "Epoch 7/50\n",
            "251/251 [==============================] - 1s 3ms/step - loss: 5.7730e-04 - accuracy: 0.0000e+00 - val_loss: 0.0016 - val_accuracy: 0.0000e+00\n",
            "Epoch 8/50\n",
            "251/251 [==============================] - 1s 3ms/step - loss: 5.7642e-04 - accuracy: 1.2475e-04 - val_loss: 0.0013 - val_accuracy: 0.0000e+00\n",
            "Epoch 9/50\n",
            "251/251 [==============================] - 1s 3ms/step - loss: 5.5688e-04 - accuracy: 1.2475e-04 - val_loss: 0.0013 - val_accuracy: 0.0000e+00\n",
            "Epoch 10/50\n",
            "251/251 [==============================] - 1s 3ms/step - loss: 5.9849e-04 - accuracy: 0.0000e+00 - val_loss: 0.0019 - val_accuracy: 0.0000e+00\n",
            "Epoch 11/50\n",
            "251/251 [==============================] - 1s 3ms/step - loss: 5.4296e-04 - accuracy: 0.0000e+00 - val_loss: 0.0018 - val_accuracy: 0.0000e+00\n",
            "Epoch 12/50\n",
            "251/251 [==============================] - 1s 3ms/step - loss: 4.9925e-04 - accuracy: 0.0000e+00 - val_loss: 0.0021 - val_accuracy: 0.0000e+00\n",
            "Epoch 13/50\n",
            "251/251 [==============================] - 1s 3ms/step - loss: 5.3328e-04 - accuracy: 0.0000e+00 - val_loss: 0.0014 - val_accuracy: 0.0000e+00\n",
            "Epoch 14/50\n",
            "251/251 [==============================] - 1s 3ms/step - loss: 5.0577e-04 - accuracy: 0.0000e+00 - val_loss: 0.0011 - val_accuracy: 0.0000e+00\n",
            "Epoch 15/50\n",
            "251/251 [==============================] - 1s 3ms/step - loss: 4.5986e-04 - accuracy: 0.0000e+00 - val_loss: 0.0017 - val_accuracy: 0.0000e+00\n",
            "Epoch 16/50\n",
            "251/251 [==============================] - 1s 3ms/step - loss: 4.8448e-04 - accuracy: 0.0000e+00 - val_loss: 0.0013 - val_accuracy: 0.0000e+00\n",
            "Epoch 17/50\n",
            "251/251 [==============================] - 1s 3ms/step - loss: 5.0623e-04 - accuracy: 0.0000e+00 - val_loss: 0.0025 - val_accuracy: 0.0000e+00\n",
            "Epoch 18/50\n",
            "251/251 [==============================] - 1s 3ms/step - loss: 4.6763e-04 - accuracy: 0.0000e+00 - val_loss: 0.0012 - val_accuracy: 0.0000e+00\n",
            "Epoch 19/50\n",
            "251/251 [==============================] - 1s 3ms/step - loss: 4.8255e-04 - accuracy: 0.0000e+00 - val_loss: 0.0011 - val_accuracy: 0.0000e+00\n",
            "Epoch 20/50\n",
            "251/251 [==============================] - 1s 3ms/step - loss: 4.7720e-04 - accuracy: 1.2475e-04 - val_loss: 9.7623e-04 - val_accuracy: 0.0000e+00\n",
            "Epoch 21/50\n",
            "251/251 [==============================] - 1s 3ms/step - loss: 5.3063e-04 - accuracy: 0.0000e+00 - val_loss: 7.0386e-04 - val_accuracy: 0.0000e+00\n",
            "Epoch 22/50\n",
            "251/251 [==============================] - 1s 3ms/step - loss: 4.7420e-04 - accuracy: 1.2475e-04 - val_loss: 0.0016 - val_accuracy: 0.0000e+00\n",
            "Epoch 23/50\n",
            "251/251 [==============================] - 1s 3ms/step - loss: 5.1080e-04 - accuracy: 0.0000e+00 - val_loss: 0.0010 - val_accuracy: 0.0000e+00\n",
            "Epoch 24/50\n",
            "251/251 [==============================] - 1s 3ms/step - loss: 4.1477e-04 - accuracy: 0.0000e+00 - val_loss: 0.0014 - val_accuracy: 0.0000e+00\n",
            "Epoch 25/50\n",
            "251/251 [==============================] - 1s 3ms/step - loss: 4.9647e-04 - accuracy: 0.0000e+00 - val_loss: 0.0012 - val_accuracy: 0.0000e+00\n",
            "Epoch 26/50\n",
            "251/251 [==============================] - 1s 3ms/step - loss: 4.6532e-04 - accuracy: 0.0000e+00 - val_loss: 8.4409e-04 - val_accuracy: 0.0000e+00\n",
            "Epoch 27/50\n",
            "251/251 [==============================] - 1s 3ms/step - loss: 4.6772e-04 - accuracy: 1.2475e-04 - val_loss: 6.5317e-04 - val_accuracy: 0.0000e+00\n",
            "Epoch 28/50\n",
            "251/251 [==============================] - 1s 3ms/step - loss: 3.8313e-04 - accuracy: 0.0000e+00 - val_loss: 8.9087e-04 - val_accuracy: 0.0000e+00\n",
            "Epoch 29/50\n",
            "251/251 [==============================] - 1s 3ms/step - loss: 4.2332e-04 - accuracy: 0.0000e+00 - val_loss: 7.2947e-04 - val_accuracy: 0.0000e+00\n",
            "Epoch 30/50\n",
            "251/251 [==============================] - 1s 3ms/step - loss: 4.1484e-04 - accuracy: 0.0000e+00 - val_loss: 7.6603e-04 - val_accuracy: 0.0000e+00\n",
            "Epoch 31/50\n",
            "251/251 [==============================] - 1s 3ms/step - loss: 4.2106e-04 - accuracy: 0.0000e+00 - val_loss: 0.0010 - val_accuracy: 0.0000e+00\n",
            "Epoch 32/50\n",
            "251/251 [==============================] - 1s 3ms/step - loss: 4.3471e-04 - accuracy: 0.0000e+00 - val_loss: 7.6454e-04 - val_accuracy: 0.0000e+00\n",
            "Epoch 33/50\n",
            "251/251 [==============================] - 1s 3ms/step - loss: 4.7098e-04 - accuracy: 0.0000e+00 - val_loss: 6.5425e-04 - val_accuracy: 0.0000e+00\n",
            "Epoch 34/50\n",
            "251/251 [==============================] - 1s 3ms/step - loss: 3.8050e-04 - accuracy: 0.0000e+00 - val_loss: 8.5618e-04 - val_accuracy: 0.0000e+00\n",
            "Epoch 35/50\n",
            "251/251 [==============================] - 1s 3ms/step - loss: 4.0931e-04 - accuracy: 0.0000e+00 - val_loss: 0.0010 - val_accuracy: 0.0000e+00\n",
            "Epoch 36/50\n",
            "251/251 [==============================] - 1s 3ms/step - loss: 4.1606e-04 - accuracy: 0.0000e+00 - val_loss: 0.0021 - val_accuracy: 0.0000e+00\n",
            "Epoch 37/50\n",
            "251/251 [==============================] - 1s 3ms/step - loss: 3.8657e-04 - accuracy: 0.0000e+00 - val_loss: 8.4422e-04 - val_accuracy: 0.0000e+00\n",
            "Epoch 38/50\n",
            "251/251 [==============================] - 1s 3ms/step - loss: 3.7384e-04 - accuracy: 0.0000e+00 - val_loss: 7.3136e-04 - val_accuracy: 0.0000e+00\n",
            "Epoch 39/50\n",
            "251/251 [==============================] - 1s 3ms/step - loss: 3.8412e-04 - accuracy: 0.0000e+00 - val_loss: 6.1274e-04 - val_accuracy: 0.0000e+00\n",
            "Epoch 40/50\n",
            "251/251 [==============================] - 1s 3ms/step - loss: 3.7504e-04 - accuracy: 1.2475e-04 - val_loss: 0.0012 - val_accuracy: 0.0000e+00\n",
            "Epoch 41/50\n",
            "251/251 [==============================] - 1s 3ms/step - loss: 4.1278e-04 - accuracy: 0.0000e+00 - val_loss: 6.2300e-04 - val_accuracy: 0.0000e+00\n",
            "Epoch 42/50\n",
            "251/251 [==============================] - 1s 3ms/step - loss: 3.7574e-04 - accuracy: 0.0000e+00 - val_loss: 0.0011 - val_accuracy: 0.0000e+00\n",
            "Epoch 43/50\n",
            "251/251 [==============================] - 1s 3ms/step - loss: 3.7317e-04 - accuracy: 1.2475e-04 - val_loss: 8.5268e-04 - val_accuracy: 0.0000e+00\n",
            "Epoch 44/50\n",
            "251/251 [==============================] - 1s 3ms/step - loss: 4.0011e-04 - accuracy: 0.0000e+00 - val_loss: 7.1720e-04 - val_accuracy: 0.0000e+00\n",
            "Epoch 45/50\n",
            "251/251 [==============================] - 1s 3ms/step - loss: 3.5940e-04 - accuracy: 0.0000e+00 - val_loss: 6.3601e-04 - val_accuracy: 0.0000e+00\n",
            "Epoch 46/50\n",
            "251/251 [==============================] - 1s 3ms/step - loss: 3.7328e-04 - accuracy: 0.0000e+00 - val_loss: 0.0010 - val_accuracy: 0.0000e+00\n",
            "Epoch 47/50\n",
            "251/251 [==============================] - 1s 3ms/step - loss: 3.2992e-04 - accuracy: 0.0000e+00 - val_loss: 0.0011 - val_accuracy: 0.0000e+00\n",
            "Epoch 48/50\n",
            "251/251 [==============================] - 1s 3ms/step - loss: 3.7907e-04 - accuracy: 1.2475e-04 - val_loss: 6.2939e-04 - val_accuracy: 0.0000e+00\n",
            "Epoch 49/50\n",
            "251/251 [==============================] - 1s 3ms/step - loss: 3.3955e-04 - accuracy: 0.0000e+00 - val_loss: 6.6196e-04 - val_accuracy: 0.0000e+00\n",
            "Epoch 50/50\n",
            "251/251 [==============================] - 1s 3ms/step - loss: 3.3381e-04 - accuracy: 0.0000e+00 - val_loss: 7.3565e-04 - val_accuracy: 0.0000e+00\n"
          ]
        },
        {
          "output_type": "execute_result",
          "data": {
            "text/plain": [
              "<keras.callbacks.History at 0x7f369a54f650>"
            ]
          },
          "metadata": {},
          "execution_count": 32
        }
      ]
    },
    {
      "cell_type": "code",
      "source": [
        "predicted = model.predict(X_test1)\n",
        "y_test1_np = np.asarray(y_test1)"
      ],
      "metadata": {
        "id": "HYnUUt7VH9un"
      },
      "execution_count": 33,
      "outputs": []
    },
    {
      "cell_type": "code",
      "source": [
        "predicted.shape"
      ],
      "metadata": {
        "colab": {
          "base_uri": "https://localhost:8080/"
        },
        "id": "fz5k55JXH9yh",
        "outputId": "d01287d4-2068-4759-bc7e-cacc40a16abb"
      },
      "execution_count": 34,
      "outputs": [
        {
          "output_type": "execute_result",
          "data": {
            "text/plain": [
              "(2506, 10)"
            ]
          },
          "metadata": {},
          "execution_count": 34
        }
      ]
    },
    {
      "cell_type": "markdown",
      "source": [
        "Since the last layer had 10 neurons, we take the mean of all the outputs,"
      ],
      "metadata": {
        "id": "pjUM7XvaIXik"
      }
    },
    {
      "cell_type": "code",
      "source": [
        "mean_predicted = []\n",
        "for i in range(len(predicted)-1):\n",
        "    value = predicted[i].mean()\n",
        "    mean_predicted.append(value)"
      ],
      "metadata": {
        "id": "Vqmg8HVkH92v"
      },
      "execution_count": 35,
      "outputs": []
    },
    {
      "cell_type": "code",
      "source": [
        "fig,ax = plt.subplots(figsize=(10,10))\n",
        "ax.plot(mean_predicted,label = 'Predicted Value')\n",
        "ax.plot(y_test1_np,label = 'Real Value')\n",
        "plt.legend(loc=\"upper left\")"
      ],
      "metadata": {
        "colab": {
          "base_uri": "https://localhost:8080/",
          "height": 610
        },
        "id": "_NIzCkpnH97R",
        "outputId": "217c282a-43da-43e6-d8a9-b0db960333c4"
      },
      "execution_count": 36,
      "outputs": [
        {
          "output_type": "execute_result",
          "data": {
            "text/plain": [
              "<matplotlib.legend.Legend at 0x7f369a3d6cd0>"
            ]
          },
          "metadata": {},
          "execution_count": 36
        },
        {
          "output_type": "display_data",
          "data": {
            "text/plain": [
              "<Figure size 720x720 with 1 Axes>"
            ],
            "image/png": "[encoded data removed]"
          },
          "metadata": {
            "needs_background": "light"
          }
        }
      ]
    },
    {
      "cell_type": "markdown",
      "source": [
        "Our model has accurately predicted the closing values, given the independent variables\n",
        "\n",
        "However the independent variables are not always available, in such a case we resort to time-series forecasting (works for this example)\n",
        "\n"
      ],
      "metadata": {
        "id": "CoXfFuwFIjuA"
      }
    },
    {
      "cell_type": "code",
      "source": [],
      "metadata": {
        "id": "O85AxYo4H-AD"
      },
      "execution_count": 37,
      "outputs": []
    }
  ]
}